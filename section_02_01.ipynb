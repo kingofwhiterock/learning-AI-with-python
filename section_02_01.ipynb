{
 "cells": [
  {
   "cell_type": "markdown",
   "source": [
    "# Label Encoding"
   ],
   "metadata": {
    "collapsed": false,
    "pycharm": {
     "name": "#%% md\n"
    }
   }
  },
  {
   "cell_type": "code",
   "execution_count": 1,
   "metadata": {
    "collapsed": true
   },
   "outputs": [],
   "source": [
    "# import numpy as np\n",
    "from sklearn import preprocessing"
   ]
  },
  {
   "cell_type": "code",
   "execution_count": 2,
   "outputs": [],
   "source": [
    "input_labels = ['Meinohama',\n",
    "                'Shimoyamato',\n",
    "                'Imajuku',\n",
    "                'Gakken-toshi',\n",
    "                'Susenji',\n",
    "                'Hatae',\n",
    "                'Itoshima-High-School',\n",
    "                'Chikuzen-Maebaru']"
   ],
   "metadata": {
    "collapsed": false,
    "pycharm": {
     "name": "#%%\n"
    }
   }
  },
  {
   "cell_type": "code",
   "execution_count": 3,
   "outputs": [
    {
     "data": {
      "text/plain": "LabelEncoder()"
     },
     "execution_count": 3,
     "metadata": {},
     "output_type": "execute_result"
    }
   ],
   "source": [
    "encoder = preprocessing.LabelEncoder()\n",
    "encoder.fit(input_labels)"
   ],
   "metadata": {
    "collapsed": false,
    "pycharm": {
     "name": "#%%\n"
    }
   }
  },
  {
   "cell_type": "code",
   "execution_count": 4,
   "outputs": [
    {
     "name": "stdout",
     "output_type": "stream",
     "text": [
      "Label Mapping:\n",
      "0 --> Chikuzen-Maebaru\n",
      "1 --> Gakken-toshi\n",
      "2 --> Hatae\n",
      "3 --> Imajuku\n",
      "4 --> Itoshima-High-School\n",
      "5 --> Meinohama\n",
      "6 --> Shimoyamato\n",
      "7 --> Susenji\n"
     ]
    }
   ],
   "source": [
    "print('Label Mapping:')\n",
    "for num, item in enumerate(encoder.classes_):\n",
    "    print(num, '-->', item)"
   ],
   "metadata": {
    "collapsed": false,
    "pycharm": {
     "name": "#%%\n"
    }
   }
  },
  {
   "cell_type": "code",
   "execution_count": 5,
   "outputs": [
    {
     "name": "stdout",
     "output_type": "stream",
     "text": [
      "Chikuzen-Maebaru --> 0\n",
      "Gakken-toshi --> 1\n",
      "Hatae --> 2\n",
      "Imajuku --> 3\n",
      "Itoshima-High-School --> 4\n",
      "Meinohama --> 5\n",
      "Shimoyamato --> 6\n",
      "Susenji --> 7\n"
     ]
    }
   ],
   "source": [
    "for num, item in enumerate(encoder.classes_):\n",
    "    print(item, '-->', num)"
   ],
   "metadata": {
    "collapsed": false,
    "pycharm": {
     "name": "#%%\n"
    }
   }
  },
  {
   "cell_type": "markdown",
   "source": [
    "アルファベット順にナンバリングされている。"
   ],
   "metadata": {
    "collapsed": false,
    "pycharm": {
     "name": "#%% md\n"
    }
   }
  },
  {
   "cell_type": "code",
   "execution_count": 6,
   "outputs": [
    {
     "name": "stdout",
     "output_type": "stream",
     "text": [
      "Labels:  ['Gakken-toshi', 'Susenji', 'Meinohama']\n",
      "Encoded values:  [1 7 5]\n"
     ]
    }
   ],
   "source": [
    "test_labels = ['Gakken-toshi', 'Susenji', 'Meinohama']\n",
    "encoded_values = encoder.transform(test_labels)\n",
    "print('Labels: ', test_labels)\n",
    "print('Encoded values: ', encoded_values)"
   ],
   "metadata": {
    "collapsed": false,
    "pycharm": {
     "name": "#%%\n"
    }
   }
  },
  {
   "cell_type": "code",
   "execution_count": 7,
   "outputs": [
    {
     "ename": "ValueError",
     "evalue": "y contains previously unseen labels: ['Nisijin']",
     "output_type": "error",
     "traceback": [
      "\u001B[1;31m---------------------------------------------------------------------------\u001B[0m",
      "\u001B[1;31mValueError\u001B[0m                                Traceback (most recent call last)",
      "\u001B[1;32m<ipython-input-7-c6ce7b23494a>\u001B[0m in \u001B[0;36m<module>\u001B[1;34m\u001B[0m\n\u001B[0;32m      1\u001B[0m \u001B[1;31m# ラベルがない時\u001B[0m\u001B[1;33m\u001B[0m\u001B[1;33m\u001B[0m\u001B[1;33m\u001B[0m\u001B[0m\n\u001B[0;32m      2\u001B[0m \u001B[0mnon_fit_labels\u001B[0m \u001B[1;33m=\u001B[0m \u001B[1;33m[\u001B[0m\u001B[1;34m'Susenji'\u001B[0m\u001B[1;33m,\u001B[0m \u001B[1;34m'Itoshima-High-School'\u001B[0m\u001B[1;33m,\u001B[0m \u001B[1;34m'Nisijin'\u001B[0m\u001B[1;33m]\u001B[0m\u001B[1;33m\u001B[0m\u001B[1;33m\u001B[0m\u001B[0m\n\u001B[1;32m----> 3\u001B[1;33m \u001B[0mnon_fit_values\u001B[0m \u001B[1;33m=\u001B[0m \u001B[0mencoder\u001B[0m\u001B[1;33m.\u001B[0m\u001B[0mtransform\u001B[0m\u001B[1;33m(\u001B[0m\u001B[0mnon_fit_labels\u001B[0m\u001B[1;33m)\u001B[0m\u001B[1;33m\u001B[0m\u001B[1;33m\u001B[0m\u001B[0m\n\u001B[0m\u001B[0;32m      4\u001B[0m \u001B[0mprint\u001B[0m\u001B[1;33m(\u001B[0m\u001B[1;34m'Non fit labels'\u001B[0m\u001B[1;33m,\u001B[0m \u001B[0mnon_fit_labels\u001B[0m\u001B[1;33m)\u001B[0m\u001B[1;33m\u001B[0m\u001B[1;33m\u001B[0m\u001B[0m\n\u001B[0;32m      5\u001B[0m \u001B[1;33m\u001B[0m\u001B[0m\n",
      "\u001B[1;32m~\\Anaconda3\\envs\\machine_learning\\lib\\site-packages\\sklearn\\preprocessing\\label.py\u001B[0m in \u001B[0;36mtransform\u001B[1;34m(self, y)\u001B[0m\n\u001B[0;32m    255\u001B[0m             \u001B[1;32mreturn\u001B[0m \u001B[0mnp\u001B[0m\u001B[1;33m.\u001B[0m\u001B[0marray\u001B[0m\u001B[1;33m(\u001B[0m\u001B[1;33m[\u001B[0m\u001B[1;33m]\u001B[0m\u001B[1;33m)\u001B[0m\u001B[1;33m\u001B[0m\u001B[1;33m\u001B[0m\u001B[0m\n\u001B[0;32m    256\u001B[0m \u001B[1;33m\u001B[0m\u001B[0m\n\u001B[1;32m--> 257\u001B[1;33m         \u001B[0m_\u001B[0m\u001B[1;33m,\u001B[0m \u001B[0my\u001B[0m \u001B[1;33m=\u001B[0m \u001B[0m_encode\u001B[0m\u001B[1;33m(\u001B[0m\u001B[0my\u001B[0m\u001B[1;33m,\u001B[0m \u001B[0muniques\u001B[0m\u001B[1;33m=\u001B[0m\u001B[0mself\u001B[0m\u001B[1;33m.\u001B[0m\u001B[0mclasses_\u001B[0m\u001B[1;33m,\u001B[0m \u001B[0mencode\u001B[0m\u001B[1;33m=\u001B[0m\u001B[1;32mTrue\u001B[0m\u001B[1;33m)\u001B[0m\u001B[1;33m\u001B[0m\u001B[1;33m\u001B[0m\u001B[0m\n\u001B[0m\u001B[0;32m    258\u001B[0m         \u001B[1;32mreturn\u001B[0m \u001B[0my\u001B[0m\u001B[1;33m\u001B[0m\u001B[1;33m\u001B[0m\u001B[0m\n\u001B[0;32m    259\u001B[0m \u001B[1;33m\u001B[0m\u001B[0m\n",
      "\u001B[1;32m~\\Anaconda3\\envs\\machine_learning\\lib\\site-packages\\sklearn\\preprocessing\\label.py\u001B[0m in \u001B[0;36m_encode\u001B[1;34m(values, uniques, encode)\u001B[0m\n\u001B[0;32m    108\u001B[0m         \u001B[1;32mreturn\u001B[0m \u001B[0mres\u001B[0m\u001B[1;33m\u001B[0m\u001B[1;33m\u001B[0m\u001B[0m\n\u001B[0;32m    109\u001B[0m     \u001B[1;32melse\u001B[0m\u001B[1;33m:\u001B[0m\u001B[1;33m\u001B[0m\u001B[1;33m\u001B[0m\u001B[0m\n\u001B[1;32m--> 110\u001B[1;33m         \u001B[1;32mreturn\u001B[0m \u001B[0m_encode_numpy\u001B[0m\u001B[1;33m(\u001B[0m\u001B[0mvalues\u001B[0m\u001B[1;33m,\u001B[0m \u001B[0muniques\u001B[0m\u001B[1;33m,\u001B[0m \u001B[0mencode\u001B[0m\u001B[1;33m)\u001B[0m\u001B[1;33m\u001B[0m\u001B[1;33m\u001B[0m\u001B[0m\n\u001B[0m\u001B[0;32m    111\u001B[0m \u001B[1;33m\u001B[0m\u001B[0m\n\u001B[0;32m    112\u001B[0m \u001B[1;33m\u001B[0m\u001B[0m\n",
      "\u001B[1;32m~\\Anaconda3\\envs\\machine_learning\\lib\\site-packages\\sklearn\\preprocessing\\label.py\u001B[0m in \u001B[0;36m_encode_numpy\u001B[1;34m(values, uniques, encode)\u001B[0m\n\u001B[0;32m     47\u001B[0m         \u001B[1;32mif\u001B[0m \u001B[0mdiff\u001B[0m\u001B[1;33m:\u001B[0m\u001B[1;33m\u001B[0m\u001B[1;33m\u001B[0m\u001B[0m\n\u001B[0;32m     48\u001B[0m             raise ValueError(\"y contains previously unseen labels: %s\"\n\u001B[1;32m---> 49\u001B[1;33m                              % str(diff))\n\u001B[0m\u001B[0;32m     50\u001B[0m         \u001B[0mencoded\u001B[0m \u001B[1;33m=\u001B[0m \u001B[0mnp\u001B[0m\u001B[1;33m.\u001B[0m\u001B[0msearchsorted\u001B[0m\u001B[1;33m(\u001B[0m\u001B[0muniques\u001B[0m\u001B[1;33m,\u001B[0m \u001B[0mvalues\u001B[0m\u001B[1;33m)\u001B[0m\u001B[1;33m\u001B[0m\u001B[1;33m\u001B[0m\u001B[0m\n\u001B[0;32m     51\u001B[0m         \u001B[1;32mreturn\u001B[0m \u001B[0muniques\u001B[0m\u001B[1;33m,\u001B[0m \u001B[0mencoded\u001B[0m\u001B[1;33m\u001B[0m\u001B[1;33m\u001B[0m\u001B[0m\n",
      "\u001B[1;31mValueError\u001B[0m: y contains previously unseen labels: ['Nisijin']"
     ]
    }
   ],
   "source": [
    "# ラベルがない時\n",
    "non_fit_labels = ['Susenji', 'Itoshima-High-School', 'Nisijin']\n",
    "non_fit_values = encoder.transform(non_fit_labels)\n",
    "print('Non fit labels', non_fit_labels)"
   ],
   "metadata": {
    "collapsed": false,
    "pycharm": {
     "name": "#%%\n"
    }
   }
  },
  {
   "cell_type": "code",
   "execution_count": null,
   "outputs": [],
   "source": [
    "encoded_values = [4, 5, 1, 2, 0]\n",
    "decoded_list = encoder.inverse_transform(encoded_values)\n",
    "print('Encoded values: ', encoded_values)\n",
    "print('Decoded labels: ', decoded_list)\n"
   ],
   "metadata": {
    "collapsed": false,
    "pycharm": {
     "name": "#%%\n"
    }
   }
  }
 ],
 "metadata": {
  "kernelspec": {
   "name": "python3",
   "language": "python",
   "display_name": "Python 3"
  },
  "language_info": {
   "codemirror_mode": {
    "name": "ipython",
    "version": 2
   },
   "file_extension": ".py",
   "mimetype": "text/x-python",
   "name": "python",
   "nbconvert_exporter": "python",
   "pygments_lexer": "ipython2",
   "version": "2.7.6"
  }
 },
 "nbformat": 4,
 "nbformat_minor": 0
}