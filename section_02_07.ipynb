{
 "cells": [
  {
   "cell_type": "markdown",
   "metadata": {
    "collapsed": true,
    "pycharm": {
     "name": "#%% md\n"
    }
   },
   "source": [
    "# A Multivariable Regressor\n",
    "\n",
    "重回帰分析……多次元のデータを扱う。"
   ]
  },
  {
   "cell_type": "code",
   "execution_count": 1,
   "outputs": [],
   "source": [
    "import numpy as np\n",
    "from sklearn import linear_model\n",
    "import sklearn.metrics as sm\n",
    "\n",
    "input_file = 'const/data_multivar_regr.txt'\n",
    "data = np.loadtxt(input_file, delimiter=',')\n",
    "X, y = data[:, :-1], data[:, -1]\n",
    "\n",
    "regressor = linear_model.LinearRegression()\n",
    "regressor.fit(X, y)\n",
    "y_pred = regressor.predict(X)"
   ],
   "metadata": {
    "collapsed": false,
    "pycharm": {
     "name": "#%%\n"
    }
   }
  },
  {
   "cell_type": "code",
   "execution_count": 2,
   "outputs": [
    {
     "name": "stdout",
     "output_type": "stream",
     "text": [
      "** Liner regressor performance **\n",
      "Mean absolute error =  3.64\n",
      "Mean squared error =  20.9\n",
      "Median absolute error =  3.1\n",
      "Explain variance score =  0.86\n",
      "R2 score =  0.86\n"
     ]
    }
   ],
   "source": [
    "print('** Liner regressor performance **')\n",
    "print('Mean absolute error = ', round(sm.mean_absolute_error(y, y_pred), 2))\n",
    "print('Mean squared error = ', round(sm.mean_squared_error(y, y_pred), 2))\n",
    "print('Median absolute error = ', round(sm.median_absolute_error(y, y_pred), 2))\n",
    "print('Explain variance score = ', round(sm.explained_variance_score(y, y_pred), 2))\n",
    "print('R2 score = ', round(sm.r2_score(y, y_pred), 2))"
   ],
   "metadata": {
    "collapsed": false,
    "pycharm": {
     "name": "#%%\n"
    }
   }
  },
  {
   "cell_type": "code",
   "execution_count": 3,
   "outputs": [
    {
     "name": "stdout",
     "output_type": "stream",
     "text": [
      "Liner regression:\n",
      "[10.82449559 17.3818526   3.29725309 38.64955824 10.41302956]\n",
      "True output values:\n",
      "[15.69 15.34  0.66 38.37  9.96]\n"
     ]
    }
   ],
   "source": [
    "print('Liner regression:')\n",
    "print(regressor.predict(X[0: 5]))\n",
    "print('True output values:')\n",
    "print(y[0: 5])"
   ],
   "metadata": {
    "collapsed": false,
    "pycharm": {
     "name": "#%%\n"
    }
   }
  },
  {
   "cell_type": "markdown",
   "source": [
    "訓練用データとテストデータを分けて学習してみる。"
   ],
   "metadata": {
    "collapsed": false,
    "pycharm": {
     "name": "#%% md\n"
    }
   }
  },
  {
   "cell_type": "code",
   "execution_count": 4,
   "outputs": [],
   "source": [
    "from sklearn import model_selection\n",
    "\n",
    "X_train, X_test, y_train, y_test = model_selection.train_test_split(X, y, test_size=0.01)\n",
    "\n",
    "new_regressor = linear_model.LinearRegression()\n",
    "new_regressor.fit(X_train, y_train)\n",
    "\n",
    "new_y_pred = new_regressor.predict(X_train)"
   ],
   "metadata": {
    "collapsed": false,
    "pycharm": {
     "name": "#%%\n"
    }
   }
  },
  {
   "cell_type": "code",
   "execution_count": 5,
   "outputs": [
    {
     "name": "stdout",
     "output_type": "stream",
     "text": [
      "** Liner regressor performance **\n",
      "Mean absolute error =  3.64\n",
      "Mean squared error =  20.8\n",
      "Median absolute error =  3.14\n",
      "Explain variance score =  0.86\n",
      "R2 score =  0.86\n"
     ]
    }
   ],
   "source": [
    "print('** Liner regressor performance **')\n",
    "print('Mean absolute error = ', round(sm.mean_absolute_error(y_train, new_y_pred), 2))\n",
    "print('Mean squared error = ', round(sm.mean_squared_error(y_train, new_y_pred), 2))\n",
    "print('Median absolute error = ', round(sm.median_absolute_error(y_train, new_y_pred), 2))\n",
    "print('Explain variance score = ', round(sm.explained_variance_score(y_train, new_y_pred), 2))\n",
    "print('R2 score = ', round(sm.r2_score(y_train, new_y_pred), 2))"
   ],
   "metadata": {
    "collapsed": false,
    "pycharm": {
     "name": "#%%\n"
    }
   }
  },
  {
   "cell_type": "code",
   "execution_count": 6,
   "outputs": [
    {
     "name": "stdout",
     "output_type": "stream",
     "text": [
      "Liner regression:\n",
      "[23.41113716 22.68919595 33.73855764 30.66836272 20.704205   -1.33607187\n",
      " 27.30633772]\n",
      "True output values:\n",
      "[25.95 17.21 45.58 31.71 20.97 -6.79 28.31]\n"
     ]
    }
   ],
   "source": [
    "print('Liner regression:')\n",
    "print(regressor.predict(X_test))\n",
    "print('True output values:')\n",
    "print(y_test)"
   ],
   "metadata": {
    "collapsed": false,
    "pycharm": {
     "name": "#%%\n"
    }
   }
  }
 ],
 "metadata": {
  "kernelspec": {
   "display_name": "Python 3",
   "language": "python",
   "name": "python3"
  },
  "language_info": {
   "codemirror_mode": {
    "name": "ipython",
    "version": 2
   },
   "file_extension": ".py",
   "mimetype": "text/x-python",
   "name": "python",
   "nbconvert_exporter": "python",
   "pygments_lexer": "ipython2",
   "version": "2.7.6"
  }
 },
 "nbformat": 4,
 "nbformat_minor": 0
}