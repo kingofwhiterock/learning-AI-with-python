{
 "cells": [
  {
   "cell_type": "markdown",
   "metadata": {
    "collapsed": true,
    "pycharm": {
     "name": "#%%　md\n"
    }
   },
   "source": [
    "# A Single Variable Regressor\n",
    "\n",
    "回帰(Regression)……入力変数と出力変数の間の関係を推定する処理。出力変数は連続の値をとる実数。\n"
   ]
  },
  {
   "cell_type": "code",
   "execution_count": 1,
   "outputs": [],
   "source": [
    "import numpy as np\n",
    "from sklearn import linear_model\n",
    "import sklearn.metrics as sm\n",
    "import matplotlib.pyplot as plt\n",
    "%matplotlib inline"
   ],
   "metadata": {
    "collapsed": false,
    "pycharm": {
     "name": "#%%\n"
    }
   }
  },
  {
   "cell_type": "code",
   "execution_count": 2,
   "outputs": [],
   "source": [
    "input_file  = 'const/data_singlevar_regr.txt'"
   ],
   "metadata": {
    "collapsed": false,
    "pycharm": {
     "name": "#%%\n"
    }
   }
  },
  {
   "cell_type": "code",
   "execution_count": 3,
   "outputs": [],
   "source": [
    "data = np.loadtxt(input_file, delimiter=',')\n",
    "X, y = data[:, :-1], data[:, -1]"
   ],
   "metadata": {
    "collapsed": false,
    "pycharm": {
     "name": "#%%\n"
    }
   }
  },
  {
   "cell_type": "code",
   "execution_count": 4,
   "outputs": [
    {
     "data": {
      "text/plain": "LinearRegression(copy_X=True, fit_intercept=True, n_jobs=None, normalize=False)"
     },
     "execution_count": 4,
     "metadata": {},
     "output_type": "execute_result"
    }
   ],
   "source": [
    "regressor = linear_model.LinearRegression()\n",
    "regressor.fit(X, y)"
   ],
   "metadata": {
    "collapsed": false,
    "pycharm": {
     "name": "#%%\n"
    }
   }
  },
  {
   "cell_type": "code",
   "execution_count": 5,
   "outputs": [],
   "source": [
    "y_pred = regressor.predict(X)"
   ],
   "metadata": {
    "collapsed": false,
    "pycharm": {
     "name": "#%%\n"
    }
   }
  },
  {
   "cell_type": "code",
   "execution_count": 6,
   "outputs": [
    {
     "data": {
      "text/plain": "<Figure size 432x288 with 1 Axes>",
      "image/png": "[encoded data removed]"
     },
     "metadata": {
      "needs_background": "light"
     },
     "output_type": "display_data"
    }
   ],
   "source": [
    "plt.scatter(X, y, c='green')\n",
    "plt.plot(X, y_pred, color='black')\n",
    "plt.show()"
   ],
   "metadata": {
    "collapsed": false,
    "pycharm": {
     "name": "#%%\n"
    }
   }
  },
  {
   "cell_type": "markdown",
   "source": [
    "### モデルの性能を表す数値\n",
    "* 絶対値誤差の平均値 (Mean absolute error)\n",
    "* 二条誤差の平均値 (Mean square error)\n",
    "* 絶対値誤差の中央値 (Median absolute error)\n",
    "* 因子の寄与率 (Explain variance score)\n",
    "* R2スコア (R2 score)\n",
    "\n",
    "    回帰によって導いたモデルのあてはまりの良さを表現する値。0 <= r2 <= 1の値をとり、1に近いほどデータを適切に表現できている。\n",
    "\n",
    "    R2スコアの目安\n",
    "    * 0.6以下……モデルとして意味をなしていない。\n",
    "    * 0.8付近……いいモデル！\n",
    "    * 0.9以上……過学習を疑う。"
   ],
   "metadata": {
    "collapsed": false,
    "pycharm": {
     "name": "#%% md\n"
    }
   }
  },
  {
   "cell_type": "code",
   "execution_count": 7,
   "outputs": [
    {
     "name": "stdout",
     "output_type": "stream",
     "text": [
      "** Liner regressor performance **\n",
      "Mean absolute error =  0.65\n",
      "Mean squared error =  0.62\n",
      "Median absolute error =  0.56\n",
      "Explain variance score =  0.86\n",
      "R2 score =  0.86\n"
     ]
    }
   ],
   "source": [
    "print('** Liner regressor performance **')\n",
    "print('Mean absolute error = ', round(sm.mean_absolute_error(y, y_pred), 2))\n",
    "print('Mean squared error = ', round(sm.mean_squared_error(y, y_pred), 2))\n",
    "print('Median absolute error = ', round(sm.median_absolute_error(y, y_pred), 2))\n",
    "print('Explain variance score = ', round(sm.explained_variance_score(y, y_pred), 2))\n",
    "print('R2 score = ', round(sm.r2_score(y, y_pred), 2))"
   ],
   "metadata": {
    "collapsed": false,
    "pycharm": {
     "name": "#%%\n"
    }
   }
  },
  {
   "cell_type": "markdown",
   "source": [
    "### `pickle`\n",
    "\n",
    "モデルの保存ができるモジュール。\n",
    "\n",
    "* 保存……`pickle.dump`\n",
    "* 復元……`pickle.load`"
   ],
   "metadata": {
    "collapsed": false,
    "pycharm": {
     "name": "#%% md\n"
    }
   }
  },
  {
   "cell_type": "code",
   "execution_count": 8,
   "outputs": [],
   "source": [
    "import pickle\n",
    "# save a model\n",
    "output_file = 'const/models/model.pkl'\n",
    "with open(output_file, mode='wb') as f:\n",
    "    pickle.dump(regressor, f)"
   ],
   "metadata": {
    "collapsed": false,
    "pycharm": {
     "name": "#%%\n"
    }
   }
  },
  {
   "cell_type": "code",
   "execution_count": 9,
   "outputs": [],
   "source": [
    "# read the model\n",
    "with open(output_file, mode='rb') as f:\n",
    "    new_regressor = pickle.load(f)\n",
    "\n",
    "y_pred_new = new_regressor.predict(X)"
   ],
   "metadata": {
    "collapsed": false,
    "pycharm": {
     "name": "#%%\n"
    }
   }
  },
  {
   "cell_type": "code",
   "execution_count": 10,
   "outputs": [
    {
     "name": "stdout",
     "output_type": "stream",
     "text": [
      "** Liner regressor performance **\n",
      "Mean absolute error =  0.65\n",
      "Mean squared error =  0.62\n",
      "Median absolute error =  0.56\n",
      "Explain variance score =  0.86\n",
      "R2 score =  0.86\n"
     ]
    }
   ],
   "source": [
    "print('** Liner regressor performance **')\n",
    "print('Mean absolute error = ', round(sm.mean_absolute_error(y, y_pred_new), 2))\n",
    "print('Mean squared error = ', round(sm.mean_squared_error(y, y_pred_new), 2))\n",
    "print('Median absolute error = ', round(sm.median_absolute_error(y, y_pred_new), 2))\n",
    "print('Explain variance score = ', round(sm.explained_variance_score(y, y_pred_new), 2))\n",
    "print('R2 score = ', round(sm.r2_score(y, y_pred_new), 2))"
   ],
   "metadata": {
    "collapsed": false,
    "pycharm": {
     "name": "#%%\n"
    }
   }
  },
  {
   "cell_type": "markdown",
   "source": [
    "pickleの前後でモデルの性能が変わっていないことが確認できる。\n"
   ],
   "metadata": {
    "collapsed": false,
    "pycharm": {
     "name": "#%% md\n"
    }
   }
  }
 ],
 "metadata": {
  "kernelspec": {
   "display_name": "Python 3",
   "language": "python",
   "name": "python3"
  },
  "language_info": {
   "codemirror_mode": {
    "name": "ipython",
    "version": 2
   },
   "file_extension": ".py",
   "mimetype": "text/x-python",
   "name": "python",
   "nbconvert_exporter": "python",
   "pygments_lexer": "ipython2",
   "version": "2.7.6"
  }
 },
 "nbformat": 4,
 "nbformat_minor": 0
}