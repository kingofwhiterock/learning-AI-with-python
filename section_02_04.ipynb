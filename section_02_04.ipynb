{
 "cells": [
  {
   "cell_type": "markdown",
   "metadata": {
    "collapsed": true,
    "pycharm": {
     "name": "#%% md\n"
    }
   },
   "source": [
    "# Confusion Matrix\n",
    "\n",
    "分類器の性能を記述する図や表のこと。出力が1(Positive)、0(Negative)のいずれかである二値分類器を想定する。\n",
    "\n",
    "|実際\\\\予測|予測がPositive|予測がNegative|\n",
    "|:--:|:--:|:--:|\n",
    "|**実際がPositive**|真陽性<br>True Positive(TP)|偽陰性<br>False Negative(FN)<br>第2種過誤|\n",
    "|**実際がNegative**|偽陽性<br>False Positive(FP)<br>第1種過誤|真陰性<br>True Negative(TN)|\n",
    "\n",
    "取り組む問題によって、偽陰性(FN)または偽陽性(FP)いずれか一方を小さくするようなアルゴリズム最適化が必要になることがある。\n",
    "\n",
    "例えば**生体認証**の場合、実際はFalseの人が、Positiveと判定されるのが問題なので(見知らぬ人が重要データにアクセスできるから)、\n",
    "**偽陽性を避けること**が重要。\n",
    "\n",
    "例えば**ウイルス検査**の場合、実際にTrueの人が、Negativeと判定されるのが問題なので(感染拡大につながるから)、\n",
    "**偽陰性を避けること**が重要。\n",
    "\n",
    "* 正解率\n",
    "\n",
    " 全予測結果のうち、真の値と一致した割合。\n",
    "\n",
    " $\\frac{TP + TN}{TP + FP + FN + TN}$\n",
    "\n",
    "* 適合率\n",
    "\n",
    " 正予測の正答率。間違いの少なさ。\n",
    "\n",
    " $\\frac{TP}{TP + FP}$\n",
    "* 再現率\n",
    "\n",
    " (実際が)正に対する正答率。漏れの少なさ。\n",
    "\n",
    " $\\frac{TP}{TP + FN}$\n",
    "* 特異率\n",
    "\n",
    " (実際が)負に対する正答率。\n",
    "\n",
    " $\\frac{TN}{FP + TN}$\n",
    "\n",
    "* F1値\n",
    "\n",
    " 適合率と再現率の調和平均\n",
    "\n",
    " $\\frac{2 \\times Precision \\times Recall}{Precision + Recall}$"
   ]
  },
  {
   "cell_type": "code",
   "execution_count": 1,
   "outputs": [],
   "source": [
    "%matplotlib inline\n",
    "import numpy as np\n",
    "import matplotlib.pyplot as plt\n",
    "from sklearn.metrics import confusion_matrix\n",
    "from sklearn.metrics import classification_report"
   ],
   "metadata": {
    "collapsed": false,
    "pycharm": {
     "name": "#%%\n"
    }
   }
  },
  {
   "cell_type": "code",
   "execution_count": 2,
   "outputs": [],
   "source": [
    "# 正解と推定結果のラベルの事例を定義する\n",
    "# 本当は推定結果は何らかの分類器で推定するべきだが、今回の主題ではないので、割愛する\n",
    "true_labels = [2, 0, 0, 2, 4, 4, 1, 0, 3, 3, 3]\n",
    "pred_labels = [2, 1, 0, 2, 4, 3, 1, 0, 1, 3, 3]"
   ],
   "metadata": {
    "collapsed": false,
    "pycharm": {
     "name": "#%%\n"
    }
   }
  },
  {
   "cell_type": "markdown",
   "source": [
    "`confusion_matrix()`で生成された行列は以下のようにあらわされる。\n",
    "```\n",
    "          Predict\n",
    "          0, 1, 2, ...\n",
    "Actual 0\n",
    "       1\n",
    "       2\n",
    "       ...\n",
    "```\n",
    "二値分類の際、通例`0`をNegative、`1`をPositiveとして扱うため、以下のようになる。\n",
    "```\n",
    "0 = Negative\n",
    "1 = Positive\n",
    "\n",
    "          Predicted\n",
    "          0    1\n",
    "Actual 0  TN   FP\n",
    "       1  FN   TP\n",
    "```"
   ],
   "metadata": {
    "collapsed": false,
    "pycharm": {
     "name": "#%% md\n"
    }
   }
  },
  {
   "cell_type": "code",
   "execution_count": 3,
   "outputs": [
    {
     "name": "stdout",
     "output_type": "stream",
     "text": [
      "[[2 1 0 0 0]\n",
      " [0 1 0 0 0]\n",
      " [0 0 2 0 0]\n",
      " [0 1 0 2 0]\n",
      " [0 0 0 1 1]]\n"
     ]
    }
   ],
   "source": [
    "# Confusion Matrixの生成\n",
    "conf_mat = confusion_matrix(true_labels, pred_labels)\n",
    "print(conf_mat)"
   ],
   "metadata": {
    "collapsed": false,
    "pycharm": {
     "name": "#%%\n"
    }
   }
  },
  {
   "cell_type": "code",
   "execution_count": 4,
   "outputs": [
    {
     "data": {
      "text/plain": "<Figure size 432x288 with 2 Axes>",
      "image/png": "[encoded data removed]"
     },
     "metadata": {
      "needs_background": "light"
     },
     "output_type": "display_data"
    }
   ],
   "source": [
    "# これをmatplotlibで表現する\n",
    "plt.imshow(conf_mat, interpolation='nearest',cmap='gist_gray')\n",
    "plt.title('Confusion Matrix')\n",
    "plt.colorbar()\n",
    "ticks = np.arange(5)\n",
    "plt.xticks(ticks, ticks)\n",
    "plt.yticks(ticks, ticks)\n",
    "plt.ylabel('True labels')\n",
    "plt.xlabel('Predict labels')\n",
    "plt.show()"
   ],
   "metadata": {
    "collapsed": false,
    "pycharm": {
     "name": "#%%\n"
    }
   }
  },
  {
   "cell_type": "code",
   "execution_count": 5,
   "outputs": [
    {
     "name": "stdout",
     "output_type": "stream",
     "text": [
      "              precision    recall  f1-score   support\n",
      "\n",
      "     Class-0       1.00      0.67      0.80         3\n",
      "     Class-1       0.33      1.00      0.50         1\n",
      "     Class-2       1.00      1.00      1.00         2\n",
      "     Class-3       0.67      0.67      0.67         3\n",
      "     Class-4       1.00      0.50      0.67         2\n",
      "\n",
      "    accuracy                           0.73        11\n",
      "   macro avg       0.80      0.77      0.73        11\n",
      "weighted avg       0.85      0.73      0.75        11\n",
      "\n"
     ]
    }
   ],
   "source": [
    "# 分類レポート\n",
    "targets = ['Class-0', 'Class-1', 'Class-2', 'Class-3', 'Class-4']\n",
    "print(classification_report(true_labels, pred_labels, target_names=targets))\n"
   ],
   "metadata": {
    "collapsed": false,
    "pycharm": {
     "name": "#%%\n"
    }
   }
  }
 ],
 "metadata": {
  "kernelspec": {
   "display_name": "Python 3",
   "language": "python",
   "name": "python3"
  },
  "language_info": {
   "codemirror_mode": {
    "name": "ipython",
    "version": 2
   },
   "file_extension": ".py",
   "mimetype": "text/x-python",
   "name": "python",
   "nbconvert_exporter": "python",
   "pygments_lexer": "ipython2",
   "version": "2.7.6"
  }
 },
 "nbformat": 4,
 "nbformat_minor": 0
}