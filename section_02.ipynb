{
 "cells": [
  {
   "cell_type": "markdown",
   "source": [
    "# Preprocessing"
   ],
   "metadata": {
    "collapsed": false,
    "pycharm": {
     "name": "#%% md\n"
    }
   }
  },
  {
   "cell_type": "code",
   "metadata": {
    "collapsed": true,
    "pycharm": {
     "name": "#%%\n"
    }
   },
   "source": [
    "import numpy as np\n",
    "from sklearn import preprocessing"
   ],
   "execution_count": 1,
   "outputs": []
  },
  {
   "cell_type": "code",
   "execution_count": 2,
   "outputs": [],
   "source": [
    "# サンプルデータの定義\n",
    "input_data = np.array(\n",
    "    [[5.1, -2.9, 3.3],\n",
    "     [-1.2, 7.8, -6.1],\n",
    "     [3.9, 0.4, 2.1],\n",
    "     [7.3, -9.9, -4.5]]\n",
    ")"
   ],
   "metadata": {
    "collapsed": false,
    "pycharm": {
     "name": "#%%\n"
    }
   }
  },
  {
   "cell_type": "markdown",
   "source": [
    "---\n",
    "#### 二値化\n",
    "閾値を基準に0か1にする。"
   ],
   "metadata": {
    "collapsed": false,
    "pycharm": {
     "name": "#%% md\n"
    }
   }
  },
  {
   "cell_type": "code",
   "execution_count": 3,
   "outputs": [
    {
     "name": "stdout",
     "output_type": "stream",
     "text": [
      "Binarized data:\n",
      "[[1. 0. 1.]\n",
      " [0. 1. 0.]\n",
      " [1. 0. 0.]\n",
      " [1. 0. 0.]]\n"
     ]
    }
   ],
   "source": [
    "# 二値化\n",
    "data_binarized = preprocessing.Binarizer(threshold=2.1).transform(input_data)\n",
    "print('Binarized data:')\n",
    "print(data_binarized)"
   ],
   "metadata": {
    "collapsed": false,
    "pycharm": {
     "name": "#%%\n"
    }
   }
  },
  {
   "cell_type": "markdown",
   "source": [
    "---\n",
    "#### 平均値を引く\n",
    "`scale()`で平均値を引いてから、標準偏差が1になるようにスケーリングする。\n",
    "\n",
    "その他のメソッド\n",
    "* `mean()` arrayの平均値を表示。x行y列 → 1行y列\n",
    "* `std()` arrayの標準偏差を表示"
   ],
   "metadata": {
    "collapsed": false,
    "pycharm": {
     "name": "#%% md\n"
    }
   }
  },
  {
   "cell_type": "code",
   "execution_count": 4,
   "outputs": [
    {
     "name": "stdout",
     "output_type": "stream",
     "text": [
      "BEFORE:\n",
      "Mean [ 3.775 -1.15  -1.3  ]\n",
      "Std deviation: [3.12039661 6.36651396 4.0620192 ]\n",
      "\n",
      "AFTER:\n",
      "Mean [1.11022302e-16 0.00000000e+00 2.77555756e-17]\n",
      "Std deviation: [1. 1. 1.]\n"
     ]
    }
   ],
   "source": [
    "# 平均値を引く\n",
    "print('BEFORE:')\n",
    "print('Mean', input_data.mean(axis=0))\n",
    "print('Std deviation:', input_data.std(axis=0))\n",
    "\n",
    "data_scaled = preprocessing.scale(input_data)\n",
    "\n",
    "print()  # empty line\n",
    "print('AFTER:')\n",
    "print('Mean', data_scaled.mean(axis=0))\n",
    "print('Std deviation:', data_scaled.std(axis=0))"
   ],
   "metadata": {
    "collapsed": false,
    "pycharm": {
     "name": "#%%\n"
    }
   }
  },
  {
   "cell_type": "code",
   "source": [
    "# 平均値を引くだけの場合\n",
    "data_centered = preprocessing.scale(input_data, with_std=False)\n",
    "print('Mean', data_centered.mean(axis=0))\n",
    "print('Std deviation:', data_centered.std(axis=0))"
   ],
   "metadata": {
    "collapsed": false,
    "pycharm": {
     "name": "#%%\n"
    }
   },
   "execution_count": 5,
   "outputs": [
    {
     "name": "stdout",
     "output_type": "stream",
     "text": [
      "Mean [ 3.33066907e-16  0.00000000e+00 -1.11022302e-16]\n",
      "Std deviation: [3.12039661 6.36651396 4.0620192 ]\n"
     ]
    }
   ]
  },
  {
   "cell_type": "markdown",
   "source": [
    "---\n",
    "#### スケーリング\n",
    "特徴ベクトルの各特徴量の値は、様々な値を取り得るため、\n",
    "**機械学習アルゴリズムの訓練に使える水準に合うように**、**特徴量の値をスケーリングすること**\n",
    "が重要になる。\n",
    "\n",
    "1. `MinMaxScaler`オブジェクトを生成\n",
    "\n",
    "    `frature_range=(0, 1)`はデフォルトなので、以下のコードでは省略する\n",
    "\n",
    "1. `fit_transform()`で、最大値と最小値に収まるようにデータをスケーリング\n"
   ],
   "metadata": {
    "collapsed": false,
    "pycharm": {
     "name": "#%% md\n"
    }
   }
  },
  {
   "cell_type": "code",
   "execution_count": 6,
   "outputs": [
    {
     "name": "stdout",
     "output_type": "stream",
     "text": [
      "Min max scaled data:\n",
      "[[0.74117647 0.39548023 1.        ]\n",
      " [0.         1.         0.        ]\n",
      " [0.6        0.5819209  0.87234043]\n",
      " [1.         0.         0.17021277]]\n"
     ]
    }
   ],
   "source": [
    "data_scaler_minmax = preprocessing.MinMaxScaler()\n",
    "data_scaled_minmax = data_scaler_minmax.fit_transform(input_data)\n",
    "print('Min max scaled data:')\n",
    "print(data_scaled_minmax)"
   ],
   "metadata": {
    "collapsed": false,
    "pycharm": {
     "name": "#%%\n"
    }
   }
  },
  {
   "cell_type": "markdown",
   "source": [
    "---\n",
    "#### 正規化\n",
    "* L1正規化\n",
    "    ベクトルの要素の絶対値の和が1になるようにする。\n",
    "\n",
    "* L2正規化\n",
    "    各行の要素の自乗の和が1になるようにする。\n",
    "\n",
    "L1正規化はL2正規化よりも、**ロバスト** = **頑丈** = データの外れ値の影響を受けにくい。"
   ],
   "metadata": {
    "collapsed": false,
    "pycharm": {
     "name": "#%% md\n"
    }
   }
  },
  {
   "cell_type": "code",
   "execution_count": 7,
   "outputs": [
    {
     "name": "stdout",
     "output_type": "stream",
     "text": [
      "L1 normalized data:\n",
      "[[ 0.45132743 -0.25663717  0.2920354 ]\n",
      " [-0.0794702   0.51655629 -0.40397351]\n",
      " [ 0.609375    0.0625      0.328125  ]\n",
      " [ 0.33640553 -0.4562212  -0.20737327]]\n",
      "L2 normalized data:\n",
      "[[ 0.75765788 -0.43082507  0.49024922]\n",
      " [-0.12030718  0.78199664 -0.61156148]\n",
      " [ 0.87690281  0.08993875  0.47217844]\n",
      " [ 0.55734935 -0.75585734 -0.34357152]]\n"
     ]
    }
   ],
   "source": [
    "data_normalized_l1 = preprocessing.normalize(input_data, norm='l1')\n",
    "data_normalized_l2 = preprocessing.normalize(input_data, norm='l2')\n",
    "print('L1 normalized data:')\n",
    "print(data_normalized_l1)\n",
    "print('L2 normalized data:')\n",
    "print(data_normalized_l2)"
   ],
   "metadata": {
    "collapsed": false,
    "pycharm": {
     "name": "#%%\n"
    }
   }
  },
  {
   "cell_type": "code",
   "execution_count": 7,
   "outputs": [],
   "source": [],
   "metadata": {
    "collapsed": false,
    "pycharm": {
     "name": "#%%\n"
    }
   }
  }
 ],
 "metadata": {
  "kernelspec": {
   "display_name": "Python 3",
   "language": "python",
   "name": "python3"
  },
  "language_info": {
   "codemirror_mode": {
    "name": "ipython",
    "version": 2
   },
   "file_extension": ".py",
   "mimetype": "text/x-python",
   "name": "python",
   "nbconvert_exporter": "python",
   "pygments_lexer": "ipython2",
   "version": "2.7.6"
  }
 },
 "nbformat": 4,
 "nbformat_minor": 0
}