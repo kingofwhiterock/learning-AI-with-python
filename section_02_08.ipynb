{
 "cells": [
  {
   "cell_type": "markdown",
   "metadata": {
    "collapsed": true,
    "pycharm": {
     "name": "#%% md\n"
    }
   },
   "source": [
    "# Polynomial regression\n",
    "\n",
    "多項式回帰モデル\n",
    "\n",
    "$$y=\\sum_{i=0}^{n}\\beta_ix^i$$\n",
    "\n",
    "* $y$ は、出力変数=従属変数=目的変数\n",
    "* $x$ は、入力変数=独立変数=説明変数\n",
    "* $\\beta$ は、パラメータ\n",
    "\n",
    "前節の線形回帰モデルは、直線近似可能なデータに適用できるが、\n",
    "そうでないデータに対して、多項式で近似することによって、うまく回帰できることがある。\n",
    "\n",
    "線形回帰に比べてモデルが複雑なため、過学習に対しても注意が必要である。\n",
    "\n",
    "ここでは、先ず線形回帰モデルを用いた学習をしたのち、多項式回帰モデルを用いた学習をし、両者を比較する。"
   ]
  },
  {
   "cell_type": "code",
   "execution_count": 1,
   "outputs": [],
   "source": [
    "import numpy as np\n",
    "from sklearn import linear_model\n",
    "import sklearn.metrics as sm\n",
    "import matplotlib.pyplot as plt\n",
    "%matplotlib inline"
   ],
   "metadata": {
    "collapsed": false,
    "pycharm": {
     "name": "#%%\n"
    }
   }
  },
  {
   "cell_type": "code",
   "execution_count": 2,
   "outputs": [],
   "source": [
    "RANGE = 5\n",
    "x = np.random.rand(100) * RANGE\n",
    "y = np.sin(x) + np.random.rand(100) * 0.3"
   ],
   "metadata": {
    "collapsed": false,
    "pycharm": {
     "name": "#%%\n"
    }
   }
  },
  {
   "cell_type": "code",
   "execution_count": 3,
   "outputs": [
    {
     "data": {
      "text/plain": "LinearRegression(copy_X=True, fit_intercept=True, n_jobs=None, normalize=False)"
     },
     "execution_count": 3,
     "metadata": {},
     "output_type": "execute_result"
    }
   ],
   "source": [
    "x = x.reshape(-1, 1)\n",
    "regressor = linear_model.LinearRegression()\n",
    "regressor.fit(x, y)"
   ],
   "metadata": {
    "collapsed": false,
    "pycharm": {
     "name": "#%%\n"
    }
   }
  },
  {
   "cell_type": "code",
   "execution_count": 4,
   "outputs": [],
   "source": [
    "x_test = np.linspace(0, RANGE, 100).reshape(-1, 1)\n",
    "y_pred = regressor.predict(x_test)"
   ],
   "metadata": {
    "collapsed": false,
    "pycharm": {
     "name": "#%%\n"
    }
   }
  },
  {
   "cell_type": "code",
   "execution_count": 5,
   "outputs": [
    {
     "data": {
      "text/plain": "<Figure size 432x288 with 1 Axes>",
      "image/png": "[encoded data removed]"
     },
     "metadata": {
      "needs_background": "light"
     },
     "output_type": "display_data"
    }
   ],
   "source": [
    "plt.scatter(x, y, c='green')\n",
    "plt.plot(x_test, y_pred, color='black')\n",
    "plt.show()"
   ],
   "metadata": {
    "collapsed": false,
    "pycharm": {
     "name": "#%%\n"
    }
   }
  },
  {
   "cell_type": "code",
   "execution_count": 6,
   "outputs": [],
   "source": [
    "y_pred = regressor.predict(x)"
   ],
   "metadata": {
    "collapsed": false,
    "pycharm": {
     "name": "#%%\n"
    }
   }
  },
  {
   "cell_type": "code",
   "execution_count": 7,
   "outputs": [
    {
     "name": "stdout",
     "output_type": "stream",
     "text": [
      "** Liner regressor performance **\n",
      "Mean absolute error =  0.33\n",
      "Mean squared error =  0.16\n",
      "Median absolute error =  0.27\n",
      "Explain variance score =  0.68\n",
      "R2 score =  0.68\n"
     ]
    }
   ],
   "source": [
    "print('** Liner regressor performance **')\n",
    "print('Mean absolute error = ', round(sm.mean_absolute_error(y, y_pred), 2))\n",
    "print('Mean squared error = ', round(sm.mean_squared_error(y, y_pred), 2))\n",
    "print('Median absolute error = ', round(sm.median_absolute_error(y, y_pred), 2))\n",
    "print('Explain variance score = ', round(sm.explained_variance_score(y, y_pred), 2))\n",
    "print('R2 score = ', round(sm.r2_score(y, y_pred), 2))"
   ],
   "metadata": {
    "collapsed": false,
    "pycharm": {
     "name": "#%%\n"
    }
   }
  },
  {
   "cell_type": "markdown",
   "source": [
    "このように、線形回帰モデルで学習した場合、予測が大きく外れる場合がある。\n",
    "\n",
    "では、多項式回帰モデルを用いる。"
   ],
   "metadata": {
    "collapsed": false,
    "pycharm": {
     "name": "#%% md\n"
    }
   }
  },
  {
   "cell_type": "code",
   "execution_count": 8,
   "outputs": [],
   "source": [
    "from sklearn.preprocessing import PolynomialFeatures\n",
    "\n",
    "polynomial = PolynomialFeatures(degree=10)\n",
    "x_transformed = polynomial.fit_transform(x)\n",
    "poly_regressor = linear_model.LinearRegression()\n",
    "poly_regressor.fit(x_transformed, y)\n",
    "\n",
    "x_test_transformed = polynomial.transform(x_test)\n",
    "y_pred = poly_regressor.predict(x_test_transformed)"
   ],
   "metadata": {
    "collapsed": false,
    "pycharm": {
     "name": "#%%\n"
    }
   }
  },
  {
   "cell_type": "code",
   "execution_count": 9,
   "outputs": [
    {
     "data": {
      "text/plain": "<Figure size 432x288 with 1 Axes>",
      "image/png": "[encoded data removed]"
     },
     "metadata": {
      "needs_background": "light"
     },
     "output_type": "display_data"
    }
   ],
   "source": [
    "plt.scatter(x, y, c='green')\n",
    "plt.plot(x_test, y_pred, color='black')\n",
    "plt.show()"
   ],
   "metadata": {
    "collapsed": false,
    "pycharm": {
     "name": "#%%\n"
    }
   }
  },
  {
   "cell_type": "code",
   "execution_count": 10,
   "outputs": [],
   "source": [
    "y_pred = poly_regressor.predict(x_transformed)"
   ],
   "metadata": {
    "collapsed": false,
    "pycharm": {
     "name": "#%%\n"
    }
   }
  },
  {
   "cell_type": "code",
   "execution_count": 11,
   "outputs": [
    {
     "name": "stdout",
     "output_type": "stream",
     "text": [
      "** Liner regressor performance **\n",
      "Mean absolute error =  0.07\n",
      "Mean squared error =  0.01\n",
      "Median absolute error =  0.06\n",
      "Explain variance score =  0.99\n",
      "R2 score =  0.99\n"
     ]
    }
   ],
   "source": [
    "print('** Liner regressor performance **')\n",
    "print('Mean absolute error = ', round(sm.mean_absolute_error(y, y_pred), 2))\n",
    "print('Mean squared error = ', round(sm.mean_squared_error(y, y_pred), 2))\n",
    "print('Median absolute error = ', round(sm.median_absolute_error(y, y_pred), 2))\n",
    "print('Explain variance score = ', round(sm.explained_variance_score(y, y_pred), 2))\n",
    "print('R2 score = ', round(sm.r2_score(y, y_pred), 2))"
   ],
   "metadata": {
    "collapsed": false,
    "pycharm": {
     "name": "#%%\n"
    }
   }
  },
  {
   "cell_type": "markdown",
   "source": [
    "このように、より柔軟な近似が可能になる(とはいえ上記の例は過学習ではないだろうか)。\n",
    "\n",
    "`degree`は多項式の次数を表す。"
   ],
   "metadata": {
    "collapsed": false,
    "pycharm": {
     "name": "#%% md\n"
    }
   }
  },
  {
   "cell_type": "code",
   "execution_count": 12,
   "outputs": [],
   "source": [
    "polynomial = PolynomialFeatures(degree=2)\n",
    "x_transformed = polynomial.fit_transform(x)\n",
    "poly_regressor = linear_model.LinearRegression()\n",
    "poly_regressor.fit(x_transformed, y)\n",
    "\n",
    "x_test_transformed = polynomial.transform(x_test)\n",
    "y_pred = poly_regressor.predict(x_test_transformed)"
   ],
   "metadata": {
    "collapsed": false,
    "pycharm": {
     "name": "#%%\n"
    }
   }
  },
  {
   "cell_type": "code",
   "execution_count": 13,
   "outputs": [
    {
     "data": {
      "text/plain": "<Figure size 432x288 with 1 Axes>",
      "image/png": "[encoded data removed]"
     },
     "metadata": {
      "needs_background": "light"
     },
     "output_type": "display_data"
    }
   ],
   "source": [
    "plt.scatter(x, y, c='green')\n",
    "plt.plot(x_test, y_pred, color='black')\n",
    "plt.show()"
   ],
   "metadata": {
    "collapsed": false,
    "pycharm": {
     "name": "#%%\n"
    }
   }
  },
  {
   "cell_type": "code",
   "execution_count": 14,
   "outputs": [],
   "source": [
    "y_pred = poly_regressor.predict(x_transformed)"
   ],
   "metadata": {
    "collapsed": false,
    "pycharm": {
     "name": "#%%\n"
    }
   }
  },
  {
   "cell_type": "code",
   "execution_count": 15,
   "outputs": [
    {
     "name": "stdout",
     "output_type": "stream",
     "text": [
      "** Liner regressor performance **\n",
      "Mean absolute error =  0.21\n",
      "Mean squared error =  0.06\n",
      "Median absolute error =  0.19\n",
      "Explain variance score =  0.88\n",
      "R2 score =  0.88\n"
     ]
    }
   ],
   "source": [
    "print('** Liner regressor performance **')\n",
    "print('Mean absolute error = ', round(sm.mean_absolute_error(y, y_pred), 2))\n",
    "print('Mean squared error = ', round(sm.mean_squared_error(y, y_pred), 2))\n",
    "print('Median absolute error = ', round(sm.median_absolute_error(y, y_pred), 2))\n",
    "print('Explain variance score = ', round(sm.explained_variance_score(y, y_pred), 2))\n",
    "print('R2 score = ', round(sm.r2_score(y, y_pred), 2))\n"
   ],
   "metadata": {
    "collapsed": false,
    "pycharm": {
     "name": "#%%\n"
    }
   }
  }
 ],
 "metadata": {
  "kernelspec": {
   "display_name": "Python 3",
   "language": "python",
   "name": "python3"
  },
  "language_info": {
   "codemirror_mode": {
    "name": "ipython",
    "version": 2
   },
   "file_extension": ".py",
   "mimetype": "text/x-python",
   "name": "python",
   "nbconvert_exporter": "python",
   "pygments_lexer": "ipython2",
   "version": "2.7.6"
  }
 },
 "nbformat": 4,
 "nbformat_minor": 0
}